{
 "cells": [
  {
   "cell_type": "markdown",
   "metadata": {},
   "source": [
    "# Developing an AI application\n",
    "\n",
    "Going forward, AI algorithms will be incorporated into more and more everyday applications. For example, you might want to include an image classifier in a smart phone app. To do this, you'd use a deep learning model trained on hundreds of thousands of images as part of the overall application architecture. A large part of software development in the future will be using these types of models as common parts of applications. \n",
    "\n",
    "In this project, you'll train an image classifier to recognize different species of flowers. You can imagine using something like this in a phone app that tells you the name of the flower your camera is looking at. In practice you'd train this classifier, then export it for use in your application. We'll be using [this dataset](http://www.robots.ox.ac.uk/~vgg/data/flowers/102/index.html) of 102 flower categories, you can see a few examples below. \n",
    "\n",
    "<img src='assets/Flowers.png' width=500px>\n",
    "\n",
    "The project is broken down into multiple steps:\n",
    "\n",
    "* Load and preprocess the image dataset\n",
    "* Train the image classifier on your dataset\n",
    "* Use the trained classifier to predict image content\n",
    "\n",
    "We'll lead you through each part which you'll implement in Python.\n",
    "\n",
    "When you've completed this project, you'll have an application that can be trained on any set of labeled images. Here your network will be learning about flowers and end up as a command line application. But, what you do with your new skills depends on your imagination and effort in building a dataset. For example, imagine an app where you take a picture of a car, it tells you what the make and model is, then looks up information about it. Go build your own dataset and make something new.\n",
    "\n",
    "First up is importing the packages you'll need. It's good practice to keep all the imports at the beginning of your code. As you work through this notebook and find you need to import a package, make sure to add the import up here."
   ]
  },
  {
   "cell_type": "code",
   "execution_count": 1,
   "metadata": {},
   "outputs": [],
   "source": [
    "# Imports here\n",
    "import numpy as np\n",
    "import torch\n",
    "import torch.nn as nn\n",
    "import torch.optim as optim\n",
    "import torchvision\n",
    "import torch.nn.functional as F\n",
    "from torchvision import datasets, transforms, models\n",
    "import json\n",
    "from workspace_utils import active_session\n",
    "import matplotlib.pyplot as plt\n",
    "from PIL import Image"
   ]
  },
  {
   "cell_type": "markdown",
   "metadata": {},
   "source": [
    "## Load the data\n",
    "\n",
    "Here you'll use `torchvision` to load the data ([documentation](http://pytorch.org/docs/0.3.0/torchvision/index.html)). The data should be included alongside this notebook, otherwise you can [download it here](https://s3.amazonaws.com/content.udacity-data.com/nd089/flower_data.tar.gz). The dataset is split into three parts, training, validation, and testing. For the training, you'll want to apply transformations such as random scaling, cropping, and flipping. This will help the network generalize leading to better performance. You'll also need to make sure the input data is resized to 224x224 pixels as required by the pre-trained networks.\n",
    "\n",
    "The validation and testing sets are used to measure the model's performance on data it hasn't seen yet. For this you don't want any scaling or rotation transformations, but you'll need to resize then crop the images to the appropriate size.\n",
    "\n",
    "The pre-trained networks you'll use were trained on the ImageNet dataset where each color channel was normalized separately. For all three sets you'll need to normalize the means and standard deviations of the images to what the network expects. For the means, it's `[0.485, 0.456, 0.406]` and for the standard deviations `[0.229, 0.224, 0.225]`, calculated from the ImageNet images.  These values will shift each color channel to be centered at 0 and range from -1 to 1.\n",
    " "
   ]
  },
  {
   "cell_type": "code",
   "execution_count": 2,
   "metadata": {},
   "outputs": [],
   "source": [
    "data_dir = 'flowers'\n",
    "train_dir = data_dir + '/train'\n",
    "valid_dir = data_dir + '/valid'\n",
    "test_dir = data_dir + '/test'"
   ]
  },
  {
   "cell_type": "code",
   "execution_count": 3,
   "metadata": {},
   "outputs": [],
   "source": [
    "# TODO: Define your transforms for the training, validation, and testing sets\n",
    "data_transforms = {\n",
    "    'train': transforms.Compose([\n",
    "        transforms.RandomResizedCrop(224,scale=(0.5, 1)),\n",
    "        transforms.RandomRotation(45),\n",
    "        transforms.RandomAffine(30, scale=(0.3,0.8)),\n",
    "        transforms.RandomHorizontalFlip(),\n",
    "        transforms.ToTensor(),\n",
    "        transforms.Normalize([0.485, 0.456, 0.406], [0.229, 0.224, 0.225])\n",
    "    ]),\n",
    "    'valid': transforms.Compose([\n",
    "        transforms.Resize(225),\n",
    "        transforms.CenterCrop(224),\n",
    "        transforms.ToTensor(),\n",
    "        transforms.Normalize([0.485, 0.456, 0.406], [0.229, 0.224, 0.225])\n",
    "    ]),\n",
    "    'test':transforms.Compose([\n",
    "        transforms.Resize(225),\n",
    "        transforms.CenterCrop(224),\n",
    "        transforms.ToTensor(),\n",
    "        transforms.Normalize([0.485, 0.456, 0.406], [0.229, 0.224, 0.225])\n",
    "    ])\n",
    "}\n",
    "\n",
    "# TODO: Load the datasets with ImageFolder\n",
    "\n",
    "image_datasets = {'train': datasets.ImageFolder(train_dir,data_transforms['train']),\n",
    "                 'valid': datasets.ImageFolder(valid_dir,data_transforms['valid']),\n",
    "                 'test': datasets.ImageFolder(train_dir,data_transforms['test'])}\n",
    "\n",
    "# TODO: Using the image datasets and the trainforms, define the dataloaders\n",
    "dataloaders = {'train': torch.utils.data.DataLoader(image_datasets['train'], batch_size = 10, shuffle=True),\n",
    "               'valid': torch.utils.data.DataLoader(image_datasets['valid'], batch_size = 10),\n",
    "              'test': torch.utils.data.DataLoader(image_datasets['test'], batch_size = 10)}"
   ]
  },
  {
   "cell_type": "markdown",
   "metadata": {},
   "source": [
    "### Label mapping\n",
    "\n",
    "You'll also need to load in a mapping from category label to category name. You can find this in the file `cat_to_name.json`. It's a JSON object which you can read in with the [`json` module](https://docs.python.org/2/library/json.html). This will give you a dictionary mapping the integer encoded categories to the actual names of the flowers."
   ]
  },
  {
   "cell_type": "code",
   "execution_count": 4,
   "metadata": {},
   "outputs": [],
   "source": [
    "#import json\n",
    "\n",
    "with open('cat_to_name.json', 'r') as f:\n",
    "    cat_to_name = json.load(f)"
   ]
  },
  {
   "cell_type": "markdown",
   "metadata": {},
   "source": [
    "# Building and training the classifier\n",
    "\n",
    "Now that the data is ready, it's time to build and train the classifier. As usual, you should use one of the pretrained models from `torchvision.models` to get the image features. Build and train a new feed-forward classifier using those features.\n",
    "\n",
    "We're going to leave this part up to you. Refer to [the rubric](https://review.udacity.com/#!/rubrics/1663/view) for guidance on successfully completing this section. Things you'll need to do:\n",
    "\n",
    "* Load a [pre-trained network](http://pytorch.org/docs/master/torchvision/models.html) (If you need a starting point, the VGG networks work great and are straightforward to use)\n",
    "* Define a new, untrained feed-forward network as a classifier, using ReLU activations and dropout\n",
    "* Train the classifier layers using backpropagation using the pre-trained network to get the features\n",
    "* Track the loss and accuracy on the validation set to determine the best hyperparameters\n",
    "\n",
    "We've left a cell open for you below, but use as many as you need. Our advice is to break the problem up into smaller parts you can run separately. Check that each part is doing what you expect, then move on to the next. You'll likely find that as you work through each part, you'll need to go back and modify your previous code. This is totally normal!\n",
    "\n",
    "When training make sure you're updating only the weights of the feed-forward network. You should be able to get the validation accuracy above 70% if you build everything right. Make sure to try different hyperparameters (learning rate, units in the classifier, epochs, etc) to find the best model. Save those hyperparameters to use as default values in the next part of the project.\n",
    "\n",
    "One last important tip if you're using the workspace to run your code: To avoid having your workspace disconnect during the long-running tasks in this notebook, please read in the earlier page in this lesson called Intro to\n",
    "GPU Workspaces about Keeping Your Session Active. You'll want to include code from the workspace_utils.py module.\n",
    "\n",
    "**Note for Workspace users:** If your network is over 1 GB when saved as a checkpoint, there might be issues with saving backups in your workspace. Typically this happens with wide dense layers after the convolutional layers. If your saved checkpoint is larger than 1 GB (you can open a terminal and check with `ls -lh`), you should reduce the size of your hidden layers and train again."
   ]
  },
  {
   "cell_type": "code",
   "execution_count": 5,
   "metadata": {},
   "outputs": [],
   "source": [
    "# TODO: Build and train your network"
   ]
  },
  {
   "cell_type": "code",
   "execution_count": 6,
   "metadata": {},
   "outputs": [],
   "source": [
    "# Use GPU if it's available\n",
    "device = torch.device('cuda' if torch.cuda.is_available() else 'cpu')"
   ]
  },
  {
   "cell_type": "code",
   "execution_count": 7,
   "metadata": {},
   "outputs": [],
   "source": [
    "def train_model(model, criterion, optimizer, num_epochs=5):\n",
    "\n",
    "    for epoch in range(num_epochs):\n",
    "        print('-' * 20)\n",
    "        print('>' * 4 +'Epoch {}/{}'.format(epoch+1, num_epochs) + '<' * 4)\n",
    "        print('-' * 20)\n",
    "        \n",
    "        for phase in ['train','valid']:\n",
    "            if phase == 'train':\n",
    "                model.train() # Set model to training mode\n",
    "            else:\n",
    "                model.eval() # Set model to evaluate mode\n",
    "                \n",
    "            running_loss = 0.0\n",
    "            valid_loss = 0.0\n",
    "            train_accuracy = 0.0\n",
    "            valid_accuracy = 0.0\n",
    "            \n",
    "            for inputs, labels in dataloaders[phase]:\n",
    "                # Move input and label tensors to the default device\n",
    "                inputs, labels = inputs.to(device), labels.to(device)\n",
    "                # zero the parameter gradients\n",
    "                optimizer.zero_grad()\n",
    "                if phase == 'train':\n",
    "                    model_tr = model.forward(inputs)\n",
    "                    loss = criterion(model_tr,labels)\n",
    "                    loss.backward()\n",
    "                    optimizer.step()\n",
    "                    running_loss += loss.item()\n",
    "                    \n",
    "                    # Calculate accuracy\n",
    "                    tr = torch.exp(model_tr)\n",
    "                    top_p, top_class = tr.topk(1, dim=1)\n",
    "                    equals = top_class == labels.view(*top_class.shape)\n",
    "                    train_accuracy += torch.mean(equals.type(torch.FloatTensor)).item()\n",
    "                    \n",
    "                else:\n",
    "                    with torch.no_grad():\n",
    "                        val_model = model.forward(inputs)\n",
    "                        va_loss = criterion(val_model, labels)\n",
    "                        valid_loss += va_loss.item()\n",
    "                        \n",
    "                        # Calculate accuracy\n",
    "                        va = torch.exp(val_model)\n",
    "                        top_p, top_class = va.topk(1, dim=1)\n",
    "                        equals = top_class == labels.view(*top_class.shape)\n",
    "                        valid_accuracy += torch.mean(equals.type(torch.FloatTensor)).item()\n",
    "            \n",
    "            if phase == 'train':\n",
    "                print('train loss: {}..'.format(running_loss/len(dataloaders['train'])),\n",
    "                      'train accuracy: {}..'.format(train_accuracy/len(dataloaders['train'])))\n",
    "            \n",
    "            else:\n",
    "                print('validation loss: {}..'.format(valid_loss/len(dataloaders['valid'])),\n",
    "                      'validation accuracy: {}..'.format(valid_accuracy/len(dataloaders['valid'])))\n",
    "    \n",
    "    \n",
    "    return model             "
   ]
  },
  {
   "cell_type": "code",
   "execution_count": 8,
   "metadata": {},
   "outputs": [
    {
     "name": "stderr",
     "output_type": "stream",
     "text": [
      "Downloading: \"https://download.pytorch.org/models/alexnet-owt-4df8aa71.pth\" to /root/.torch/models/alexnet-owt-4df8aa71.pth\n",
      "100%|██████████| 244418560/244418560 [00:03<00:00, 61959059.83it/s]\n"
     ]
    }
   ],
   "source": [
    "model = models.alexnet(pretrained=True)\n",
    "\n",
    "# Freeze parameters so we don't backprop through them\n",
    "for param in model.parameters():\n",
    "    param.requires_grad = False\n",
    "    \n",
    "model.classifier = nn.Sequential(nn.Linear(9216, 2700),\n",
    "                                 nn.ReLU(),\n",
    "                                 nn.Dropout(0.2),\n",
    "                                 nn.Linear(2700, 900),\n",
    "                                 nn.ReLU(),\n",
    "                                 nn.Dropout(0.2),\n",
    "                                 nn.Linear(900, 300),\n",
    "                                 nn.ReLU(),\n",
    "                                 nn.Dropout(0.2),\n",
    "                                 nn.Linear(300, 102),\n",
    "                                 nn.LogSoftmax(dim=1))\n",
    "\n",
    "criterion = nn.CrossEntropyLoss()\n",
    "\n",
    "# Only train the classifier parameters, feature parameters are frozen\n",
    "optimizer = optim.SGD(model.classifier.parameters(), lr=0.001, momentum=0.9)\n",
    "\n",
    "model.to(device);"
   ]
  },
  {
   "cell_type": "code",
   "execution_count": 22,
   "metadata": {},
   "outputs": [
    {
     "name": "stdout",
     "output_type": "stream",
     "text": [
      "--------------------\n",
      ">>>>Epoch 1/50<<<<\n",
      "--------------------\n",
      "train loss: 3.87009018695936.. train accuracy: 0.128353661198805..\n",
      "validation loss: 3.0050953655708126.. validation accuracy: 0.2701219529276941..\n",
      "--------------------\n",
      ">>>>Epoch 2/50<<<<\n",
      "--------------------\n",
      "train loss: 2.5342086150151926.. train accuracy: 0.34024390898554063..\n",
      "validation loss: 2.228752816050518.. validation accuracy: 0.40884146630400564..\n",
      "--------------------\n",
      ">>>>Epoch 3/50<<<<\n",
      "--------------------\n",
      "train loss: 2.033816625068827.. train accuracy: 0.44466464062471217..\n",
      "validation loss: 2.0611281453109367.. validation accuracy: 0.4378048810290127..\n",
      "--------------------\n",
      ">>>>Epoch 4/50<<<<\n",
      "--------------------\n",
      "train loss: 1.7967056937334014.. train accuracy: 0.5050304938652893..\n",
      "validation loss: 1.7378496027029142.. validation accuracy: 0.5332317113331179..\n",
      "--------------------\n",
      ">>>>Epoch 5/50<<<<\n",
      "--------------------\n",
      "train loss: 1.647884482199826.. train accuracy: 0.5431402496334802..\n",
      "validation loss: 1.65858017671399.. validation accuracy: 0.5539634152338272..\n",
      "--------------------\n",
      ">>>>Epoch 6/50<<<<\n",
      "--------------------\n",
      "train loss: 1.5090648258422934.. train accuracy: 0.5745426885692811..\n",
      "validation loss: 1.4853161378968052.. validation accuracy: 0.5954268323030414..\n",
      "--------------------\n",
      ">>>>Epoch 7/50<<<<\n",
      "--------------------\n",
      "train loss: 1.408606948149277.. train accuracy: 0.6016768349175591..\n",
      "validation loss: 1.5010032690493618.. validation accuracy: 0.6064024403146128..\n",
      "--------------------\n",
      ">>>>Epoch 8/50<<<<\n",
      "--------------------\n",
      "train loss: 1.3611713077236967.. train accuracy: 0.6106707365933534..\n",
      "validation loss: 1.304967606122174.. validation accuracy: 0.6429878048053602..\n",
      "--------------------\n",
      ">>>>Epoch 9/50<<<<\n",
      "--------------------\n",
      "train loss: 1.2899662233071356.. train accuracy: 0.6339939061506856..\n",
      "validation loss: 1.4410728473307155.. validation accuracy: 0.624695123241442..\n",
      "--------------------\n",
      ">>>>Epoch 10/50<<<<\n",
      "--------------------\n",
      "train loss: 1.247619925702854.. train accuracy: 0.6457317113058596..\n",
      "validation loss: 1.4645741364021398.. validation accuracy: 0.60274390485592..\n",
      "--------------------\n",
      ">>>>Epoch 11/50<<<<\n",
      "--------------------\n",
      "train loss: 1.2060633197699377.. train accuracy: 0.651524394364437..\n",
      "validation loss: 1.2145907914652148.. validation accuracy: 0.6585365853658537..\n",
      "--------------------\n",
      ">>>>Epoch 12/50<<<<\n",
      "--------------------\n",
      "train loss: 1.1687271627711087.. train accuracy: 0.6635670759147261..\n",
      "validation loss: 1.1630915932629893.. validation accuracy: 0.6673780538868613..\n",
      "--------------------\n",
      ">>>>Epoch 13/50<<<<\n",
      "--------------------\n",
      "train loss: 1.12106334245423.. train accuracy: 0.6690548804543186..\n",
      "validation loss: 1.1503680844836663.. validation accuracy: 0.6768292671114933..\n",
      "--------------------\n",
      ">>>>Epoch 14/50<<<<\n",
      "--------------------\n",
      "train loss: 1.0741889434980183.. train accuracy: 0.6992378074039773..\n",
      "validation loss: 1.3085599065553852.. validation accuracy: 0.6503048813561114..\n",
      "--------------------\n",
      ">>>>Epoch 15/50<<<<\n",
      "--------------------\n",
      "train loss: 1.0749830734439012.. train accuracy: 0.6913109778358442..\n",
      "validation loss: 1.152363237023365.. validation accuracy: 0.6810975620841108..\n",
      "--------------------\n",
      ">>>>Epoch 16/50<<<<\n",
      "--------------------\n",
      "train loss: 1.0658180138277935.. train accuracy: 0.694664637035713..\n",
      "validation loss: 1.2018389277374542.. validation accuracy: 0.6673780497072673..\n",
      "--------------------\n",
      ">>>>Epoch 17/50<<<<\n",
      "--------------------\n",
      "train loss: 1.0233460383748114.. train accuracy: 0.69984756235215..\n",
      "validation loss: 1.2013936159598482.. validation accuracy: 0.6621951227326218..\n",
      "--------------------\n",
      ">>>>Epoch 18/50<<<<\n",
      "--------------------\n",
      "train loss: 0.9801506502780972.. train accuracy: 0.7163109765047344..\n",
      "validation loss: 1.2935732185960216.. validation accuracy: 0.6463414636872163..\n",
      "--------------------\n",
      ">>>>Epoch 19/50<<<<\n",
      "--------------------\n",
      "train loss: 0.9748581035357968.. train accuracy: 0.7196646349436444..\n",
      "validation loss: 1.0897888185402447.. validation accuracy: 0.6920731700956821..\n",
      "--------------------\n",
      ">>>>Epoch 20/50<<<<\n",
      "--------------------\n",
      "train loss: 0.9474161527028716.. train accuracy: 0.7282012208569341..\n",
      "validation loss: 0.9838722073884749.. validation accuracy: 0.7262195125222206..\n",
      "--------------------\n",
      ">>>>Epoch 21/50<<<<\n",
      "--------------------\n",
      "train loss: 0.9158850799132956.. train accuracy: 0.7282012197666052..\n",
      "validation loss: 1.076623203357818.. validation accuracy: 0.6881097576058492..\n",
      "--------------------\n",
      ">>>>Epoch 22/50<<<<\n",
      "--------------------\n",
      "train loss: 0.9224630852383221.. train accuracy: 0.734756097242963..\n",
      "validation loss: 1.0419566821216084.. validation accuracy: 0.7076219492932645..\n",
      "--------------------\n",
      ">>>>Epoch 23/50<<<<\n",
      "--------------------\n",
      "train loss: 0.930966681653134.. train accuracy: 0.7285060975019161..\n",
      "validation loss: 1.0972245743295188.. validation accuracy: 0.6905487800335012..\n",
      "--------------------\n",
      ">>>>Epoch 24/50<<<<\n",
      "--------------------\n",
      "train loss: 0.9151315860586559.. train accuracy: 0.7350609751372803..\n",
      "validation loss: 1.0811731980406543.. validation accuracy: 0.707317074442782..\n",
      "--------------------\n",
      ">>>>Epoch 25/50<<<<\n",
      "--------------------\n",
      "train loss: 0.8813355391413519.. train accuracy: 0.7403963417178248..\n",
      "validation loss: 0.9812552220920646.. validation accuracy: 0.7213414623061332..\n",
      "--------------------\n",
      ">>>>Epoch 26/50<<<<\n",
      "--------------------\n",
      "train loss: 0.8440573844972078.. train accuracy: 0.7544207303989224..\n",
      "validation loss: 1.1020584877938169.. validation accuracy: 0.6881097558794952..\n",
      "--------------------\n",
      ">>>>Epoch 27/50<<<<\n",
      "--------------------\n",
      "train loss: 0.8568999931520056.. train accuracy: 0.741768292696556..\n",
      "validation loss: 1.0297759530850028.. validation accuracy: 0.7094512189306864..\n",
      "--------------------\n",
      ">>>>Epoch 28/50<<<<\n",
      "--------------------\n",
      "train loss: 0.8268390348203843.. train accuracy: 0.7495426822499167..\n",
      "validation loss: 0.9616639052500676.. validation accuracy: 0.7246951204611034..\n",
      "--------------------\n",
      ">>>>Epoch 29/50<<<<\n",
      "--------------------\n",
      "train loss: 0.8107073980570976.. train accuracy: 0.7591463417359968..\n",
      "validation loss: 1.0207965827671948.. validation accuracy: 0.7170731687872876..\n",
      "--------------------\n",
      ">>>>Epoch 30/50<<<<\n",
      "--------------------\n",
      "train loss: 0.8202769002911249.. train accuracy: 0.7567073172639783..\n",
      "validation loss: 1.1392132224418896.. validation accuracy: 0.6817073165098342..\n",
      "--------------------\n",
      ">>>>Epoch 31/50<<<<\n",
      "--------------------\n",
      "train loss: 0.804179565336487.. train accuracy: 0.7597560962980113..\n",
      "validation loss: 0.9605302025555852.. validation accuracy: 0.7179878032425555..\n",
      "--------------------\n",
      ">>>>Epoch 32/50<<<<\n",
      "--------------------\n",
      "train loss: 0.784562937486576.. train accuracy: 0.7701219507924667..\n",
      "validation loss: 1.0247011376209785.. validation accuracy: 0.7140243876634574..\n",
      "--------------------\n",
      ">>>>Epoch 33/50<<<<\n",
      "--------------------\n",
      "train loss: 0.7637131145172866.. train accuracy: 0.7754573156012268..\n",
      "validation loss: 1.0742732856781847.. validation accuracy: 0.696341463160224..\n",
      "--------------------\n",
      ">>>>Epoch 34/50<<<<\n",
      "--------------------\n",
      "train loss: 0.748945283104393.. train accuracy: 0.7757621937681262..\n",
      "validation loss: 1.0400611462153881.. validation accuracy: 0.7082317063539494..\n",
      "--------------------\n",
      ">>>>Epoch 35/50<<<<\n",
      "--------------------\n",
      "train loss: 0.7432702891131091.. train accuracy: 0.7771341445878511..\n",
      "validation loss: 1.0812634915211408.. validation accuracy: 0.7057926811096145..\n",
      "--------------------\n",
      ">>>>Epoch 36/50<<<<\n",
      "--------------------\n",
      "train loss: 0.751666145346684.. train accuracy: 0.7771341444969904..\n",
      "validation loss: 1.0201449234907447.. validation accuracy: 0.7256097560067002..\n",
      "--------------------\n",
      ">>>>Epoch 37/50<<<<\n",
      "--------------------\n",
      "train loss: 0.7344900887067679.. train accuracy: 0.7853658509599727..\n",
      "validation loss: 1.0901534700107465.. validation accuracy: 0.7143292677838627..\n",
      "--------------------\n",
      ">>>>Epoch 38/50<<<<\n",
      "--------------------\n",
      "train loss: 0.728550577320431.. train accuracy: 0.7850609732019466..\n",
      "validation loss: 1.005840988301604.. validation accuracy: 0.7201219499111176..\n",
      "--------------------\n",
      ">>>>Epoch 39/50<<<<\n",
      "--------------------\n",
      "train loss: 0.7447554453889408.. train accuracy: 0.7745426811005284..\n",
      "validation loss: 1.0455190067721827.. validation accuracy: 0.7060975604122732..\n",
      "--------------------\n",
      ">>>>Epoch 40/50<<<<\n",
      "--------------------\n",
      "train loss: 0.6952704035495294.. train accuracy: 0.7928353627553073..\n",
      "validation loss: 1.1318350827198422.. validation accuracy: 0.7018292675294527..\n",
      "--------------------\n",
      ">>>>Epoch 41/50<<<<\n",
      "--------------------\n",
      "train loss: 0.7187171189040628.. train accuracy: 0.7887195094783859..\n",
      "validation loss: 1.0550720636788244.. validation accuracy: 0.7088414590533186..\n",
      "--------------------\n",
      ">>>>Epoch 42/50<<<<\n",
      "--------------------\n",
      "train loss: 0.7061834488484282.. train accuracy: 0.7899390216462496..\n",
      "validation loss: 0.9028460136604092.. validation accuracy: 0.7448170687548998..\n",
      "--------------------\n",
      ">>>>Epoch 43/50<<<<\n",
      "--------------------\n",
      "train loss: 0.6920028360313508.. train accuracy: 0.7922256068758121..\n",
      "validation loss: 1.1138520671149486.. validation accuracy: 0.7088414597802046..\n",
      "--------------------\n",
      ">>>>Epoch 44/50<<<<\n",
      "--------------------\n",
      "train loss: 0.6762225438426135.. train accuracy: 0.8004573149288573..\n",
      "validation loss: 1.0392520876458304.. validation accuracy: 0.7185975581225825..\n",
      "--------------------\n",
      ">>>>Epoch 45/50<<<<\n",
      "--------------------\n",
      "train loss: 0.6623831270894365.. train accuracy: 0.803963411281385..\n",
      "validation loss: 1.010600789035823.. validation accuracy: 0.7335365849842386..\n",
      "--------------------\n",
      ">>>>Epoch 46/50<<<<\n",
      "--------------------\n",
      "train loss: 0.6643725398873979.. train accuracy: 0.7993902415945763..\n",
      "validation loss: 0.9624325531902552.. validation accuracy: 0.729268292828304..\n",
      "--------------------\n",
      ">>>>Epoch 47/50<<<<\n",
      "--------------------\n",
      "train loss: 0.6582922430584071.. train accuracy: 0.8067073128299742..\n",
      "validation loss: 1.1471341718991803.. validation accuracy: 0.6929878053686968..\n",
      "--------------------\n",
      ">>>>Epoch 48/50<<<<\n",
      "--------------------\n",
      "train loss: 0.6686028460134389.. train accuracy: 0.7978658489428643..\n",
      "validation loss: 0.9979442610955874.. validation accuracy: 0.7295731672244828..\n",
      "--------------------\n",
      ">>>>Epoch 49/50<<<<\n",
      "--------------------\n",
      "train loss: 0.6246568285476802.. train accuracy: 0.8092987765444488..\n",
      "validation loss: 1.1572714577960808.. validation accuracy: 0.6993902435571682..\n",
      "--------------------\n",
      ">>>>Epoch 50/50<<<<\n",
      "--------------------\n",
      "train loss: 0.6384669305790761.. train accuracy: 0.8086890195291944..\n",
      "validation loss: 1.0869482513508268.. validation accuracy: 0.722560973883402..\n"
     ]
    }
   ],
   "source": [
    "with active_session():\n",
    "    # do long-running work here\n",
    "    model = train_model(model, criterion, optimizer, num_epochs=50)"
   ]
  },
  {
   "cell_type": "markdown",
   "metadata": {},
   "source": [
    "## Testing your network\n",
    "\n",
    "It's good practice to test your trained network on test data, images the network has never seen either in training or validation. This will give you a good estimate for the model's performance on completely new images. Run the test images through the network and measure the accuracy, the same way you did validation. You should be able to reach around 70% accuracy on the test set if the model has been trained well."
   ]
  },
  {
   "cell_type": "code",
   "execution_count": 23,
   "metadata": {},
   "outputs": [],
   "source": [
    "# TODO: Do validation on the test set\n",
    "\n",
    "def test_model(model, criterion, optimizer):\n",
    "        \n",
    "    model.eval() # Set model to evaluate mode\n",
    "    test_loss = 0.0\n",
    "    test_accuracy = 0.0\n",
    "            \n",
    "    for inputs, labels in dataloaders['test']:\n",
    "        # Move input and label tensors to the default device\n",
    "        inputs, labels = inputs.to(device), labels.to(device)\n",
    "\n",
    "        with torch.no_grad():\n",
    "            ts_model = model.forward(inputs)\n",
    "            ts_loss = criterion(ts_model, labels)\n",
    "            test_loss += ts_loss.item()\n",
    "                        \n",
    "            # Calculate accuracy\n",
    "            ts = torch.exp(ts_model)\n",
    "            top_p, top_class = ts.topk(1, dim=1)\n",
    "            equals = top_class == labels.view(*top_class.shape)\n",
    "            test_accuracy += torch.mean(equals.type(torch.FloatTensor)).item()\n",
    "\n",
    "    print('test loss: {}..'.format(test_loss/len(dataloaders['test'])),\n",
    "          'test accuracy: {}..'.format(test_accuracy/len(dataloaders['test'])))\n",
    "    \n",
    "    model.train() # Set model to training mode\n",
    "    \n",
    "    return model             "
   ]
  },
  {
   "cell_type": "code",
   "execution_count": 24,
   "metadata": {},
   "outputs": [
    {
     "name": "stdout",
     "output_type": "stream",
     "text": [
      "test loss: 0.7072628424979526.. test accuracy: 0.7945121929458365..\n"
     ]
    },
    {
     "data": {
      "text/plain": [
       "AlexNet(\n",
       "  (features): Sequential(\n",
       "    (0): Conv2d(3, 64, kernel_size=(11, 11), stride=(4, 4), padding=(2, 2))\n",
       "    (1): ReLU(inplace)\n",
       "    (2): MaxPool2d(kernel_size=3, stride=2, padding=0, dilation=1, ceil_mode=False)\n",
       "    (3): Conv2d(64, 192, kernel_size=(5, 5), stride=(1, 1), padding=(2, 2))\n",
       "    (4): ReLU(inplace)\n",
       "    (5): MaxPool2d(kernel_size=3, stride=2, padding=0, dilation=1, ceil_mode=False)\n",
       "    (6): Conv2d(192, 384, kernel_size=(3, 3), stride=(1, 1), padding=(1, 1))\n",
       "    (7): ReLU(inplace)\n",
       "    (8): Conv2d(384, 256, kernel_size=(3, 3), stride=(1, 1), padding=(1, 1))\n",
       "    (9): ReLU(inplace)\n",
       "    (10): Conv2d(256, 256, kernel_size=(3, 3), stride=(1, 1), padding=(1, 1))\n",
       "    (11): ReLU(inplace)\n",
       "    (12): MaxPool2d(kernel_size=3, stride=2, padding=0, dilation=1, ceil_mode=False)\n",
       "  )\n",
       "  (classifier): Sequential(\n",
       "    (0): Linear(in_features=9216, out_features=2700, bias=True)\n",
       "    (1): ReLU()\n",
       "    (2): Dropout(p=0.2)\n",
       "    (3): Linear(in_features=2700, out_features=900, bias=True)\n",
       "    (4): ReLU()\n",
       "    (5): Dropout(p=0.2)\n",
       "    (6): Linear(in_features=900, out_features=300, bias=True)\n",
       "    (7): ReLU()\n",
       "    (8): Dropout(p=0.2)\n",
       "    (9): Linear(in_features=300, out_features=102, bias=True)\n",
       "    (10): LogSoftmax()\n",
       "  )\n",
       ")"
      ]
     },
     "execution_count": 24,
     "metadata": {},
     "output_type": "execute_result"
    }
   ],
   "source": [
    "test_model(model, criterion, optimizer)"
   ]
  },
  {
   "cell_type": "markdown",
   "metadata": {},
   "source": [
    "## Save the checkpoint\n",
    "\n",
    "Now that your network is trained, save the model so you can load it later for making predictions. You probably want to save other things such as the mapping of classes to indices which you get from one of the image datasets: `image_datasets['train'].class_to_idx`. You can attach this to the model as an attribute which makes inference easier later on.\n",
    "\n",
    "```model.class_to_idx = image_datasets['train'].class_to_idx```\n",
    "\n",
    "Remember that you'll want to completely rebuild the model later so you can use it for inference. Make sure to include any information you need in the checkpoint. If you want to load the model and keep training, you'll want to save the number of epochs as well as the optimizer state, `optimizer.state_dict`. You'll likely want to use this trained model in the next part of the project, so best to save it now."
   ]
  },
  {
   "cell_type": "code",
   "execution_count": 25,
   "metadata": {},
   "outputs": [],
   "source": [
    "# TODO: Save the checkpoint\n",
    "model.class_to_idx = image_datasets['train'].class_to_idx\n",
    "\n",
    "checkpoint = {'epochs': 35,\n",
    "              'class_to_idx': model.class_to_idx,\n",
    "              'state_dict': model.state_dict(),\n",
    "              'optimizer_state_dict': optimizer.state_dict()}\n",
    "\n",
    "torch.save(checkpoint, 'checkpoint.pth')"
   ]
  },
  {
   "cell_type": "code",
   "execution_count": 26,
   "metadata": {},
   "outputs": [
    {
     "name": "stdout",
     "output_type": "stream",
     "text": [
      "total 221M\r\n",
      "drwxr-xr-x 2 root root 4.0K Apr  1 20:37 \u001b[0m\u001b[01;34massets\u001b[0m/\r\n",
      "-rw-r--r-- 1 root root 2.2K Mar  5  2018 cat_to_name.json\r\n",
      "-rw-r--r-- 1 root root 221M Apr 29 21:25 checkpoint.pth\r\n",
      "lrwxrwxrwx 1 root root   21 Oct 13  2018 \u001b[01;36mflowers\u001b[0m -> \u001b[01;34m../../../data/flowers\u001b[0m/\r\n",
      "-rw-r--r-- 1 root root  46K Apr 29 21:22 Image Classifier Project.ipynb\r\n",
      "-rw-r--r-- 1 root root  16K Aug  5  2018 Image Classifier Project-zh.ipynb\r\n",
      "-rw-r--r-- 1 root root 1.1K Feb  6  2018 LICENSE\r\n",
      "-rw-r--r-- 1 root root    0 Feb  6  2018 predict.py\r\n",
      "drwxr-xr-x 2 root root 4.0K Apr 21 10:51 \u001b[01;34m__pycache__\u001b[0m/\r\n",
      "-rw-r--r-- 1 root root  250 Apr 20  2018 README.md\r\n",
      "-rw-r--r-- 1 root root    0 Feb  6  2018 train.py\r\n",
      "-rw-r--r-- 1 root root 1.6K Sep 28  2018 workspace_utils.py\r\n"
     ]
    }
   ],
   "source": [
    "ls -lh"
   ]
  },
  {
   "cell_type": "markdown",
   "metadata": {},
   "source": [
    "## Loading the checkpoint\n",
    "\n",
    "At this point it's good to write a function that can load a checkpoint and rebuild the model. That way you can come back to this project and keep working on it without having to retrain the network."
   ]
  },
  {
   "cell_type": "code",
   "execution_count": 20,
   "metadata": {},
   "outputs": [],
   "source": [
    "# TODO: Write a function that loads a checkpoint and rebuilds the model\n",
    "# torch.load('my_file.pt', map_location=lambda storage, location: 'cpu')\n",
    "def load_model(file_path):\n",
    "    \n",
    "    checkpoint = torch.load(file_path, map_location='cpu')\n",
    "    model.load_state_dict(checkpoint['state_dict'])\n",
    "    optimizer.load_state_dict(checkpoint['optimizer_state_dict'])\n",
    "    epochs = checkpoint['epochs']\n",
    "\n",
    "    model.eval()\n",
    "    return checkpoint, model, optimizer, epochs"
   ]
  },
  {
   "cell_type": "code",
   "execution_count": 21,
   "metadata": {},
   "outputs": [],
   "source": [
    "checkpoint, model, optimizer, epochs = load_model('checkpoint.pth')"
   ]
  },
  {
   "cell_type": "markdown",
   "metadata": {},
   "source": [
    "# Inference for classification\n",
    "\n",
    "Now you'll write a function to use a trained network for inference. That is, you'll pass an image into the network and predict the class of the flower in the image. Write a function called `predict` that takes an image and a model, then returns the top $K$ most likely classes along with the probabilities. It should look like \n",
    "\n",
    "```python\n",
    "probs, classes = predict(image_path, model)\n",
    "print(probs)\n",
    "print(classes)\n",
    "> [ 0.01558163  0.01541934  0.01452626  0.01443549  0.01407339]\n",
    "> ['70', '3', '45', '62', '55']\n",
    "```\n",
    "\n",
    "First you'll need to handle processing the input image such that it can be used in your network. \n",
    "\n",
    "## Image Preprocessing\n",
    "\n",
    "You'll want to use `PIL` to load the image ([documentation](https://pillow.readthedocs.io/en/latest/reference/Image.html)). It's best to write a function that preprocesses the image so it can be used as input for the model. This function should process the images in the same manner used for training. \n",
    "\n",
    "First, resize the images where the shortest side is 256 pixels, keeping the aspect ratio. This can be done with the [`thumbnail`](http://pillow.readthedocs.io/en/3.1.x/reference/Image.html#PIL.Image.Image.thumbnail) or [`resize`](http://pillow.readthedocs.io/en/3.1.x/reference/Image.html#PIL.Image.Image.thumbnail) methods. Then you'll need to crop out the center 224x224 portion of the image.\n",
    "\n",
    "Color channels of images are typically encoded as integers 0-255, but the model expected floats 0-1. You'll need to convert the values. It's easiest with a Numpy array, which you can get from a PIL image like so `np_image = np.array(pil_image)`.\n",
    "\n",
    "As before, the network expects the images to be normalized in a specific way. For the means, it's `[0.485, 0.456, 0.406]` and for the standard deviations `[0.229, 0.224, 0.225]`. You'll want to subtract the means from each color channel, then divide by the standard deviation. \n",
    "\n",
    "And finally, PyTorch expects the color channel to be the first dimension but it's the third dimension in the PIL image and Numpy array. You can reorder dimensions using [`ndarray.transpose`](https://docs.scipy.org/doc/numpy-1.13.0/reference/generated/numpy.ndarray.transpose.html). The color channel needs to be first and retain the order of the other two dimensions."
   ]
  },
  {
   "cell_type": "code",
   "execution_count": 22,
   "metadata": {},
   "outputs": [],
   "source": [
    "def process_image(image):\n",
    "    ''' Scales, crops, and normalizes a PIL image for a PyTorch model,\n",
    "        returns an Numpy array\n",
    "    '''\n",
    "    \n",
    "    # TODO: Process a PIL image for use in a PyTorch model    \n",
    "    img_loader = transforms.Compose([transforms.Resize(256), transforms.CenterCrop(224), transforms.ToTensor(),\n",
    "                                     transforms.Normalize([0.485, 0.456, 0.406], [0.229, 0.224, 0.225])])\n",
    "    \n",
    "    pil_image = Image.open(image)\n",
    "    pil_image = img_loader(pil_image).float()\n",
    "    np_image = np.array(pil_image)\n",
    "    np_image = np.transpose(np_image, (0, 2, 1))\n",
    "    # 1,2,0\n",
    "    # 2, 0, 1\n",
    "    return torch.from_numpy(np_image)\n",
    "\n",
    "#     pil_image = Image.open(image)\n",
    "#     new_width, new_height = 224, 224\n",
    "#     pil_image.thumbnail((256, 256))\n",
    "#     width, height = pil_image.size   # Get dimensions\n",
    "    \n",
    "#     left = (width - new_width) / 2\n",
    "#     top = (height - new_height) / 2\n",
    "#     right = (width - new_width) / 2\n",
    "#     bottom = (height - new_height) / 2\n",
    "    \n",
    "#     pil_image.crop((left, top, right, bottom))\n",
    "    \n",
    "#     np_image = np.array(pil_image)\n",
    "    \n",
    "#     # image normalization\n",
    "#     mean = np.array([0.485, 0.456, 0.406])\n",
    "#     std = np.array([0.229, 0.224, 0.225])\n",
    "#     np_image = (np_image - mean) / std\n",
    "    \n",
    "#     np.moveaxis(np_image, 0, -1) \n",
    "#     #.transpose((2, 0, 1))\n",
    "    \n",
    "#     return torch.from_numpy(np_image)"
   ]
  },
  {
   "cell_type": "markdown",
   "metadata": {},
   "source": [
    "To check your work, the function below converts a PyTorch tensor and displays it in the notebook. If your `process_image` function works, running the output through this function should return the original image (except for the cropped out portions)."
   ]
  },
  {
   "cell_type": "code",
   "execution_count": 23,
   "metadata": {},
   "outputs": [],
   "source": [
    "def imshow(image, ax=None, title=None):\n",
    "    \"\"\"Imshow for Tensor.\"\"\"\n",
    "    if ax is None:\n",
    "        fig, ax = plt.subplots()\n",
    "    \n",
    "    # PyTorch tensors assume the color channel is the first dimension\n",
    "    # but matplotlib assumes is the third dimension\n",
    "    image = image.numpy().transpose((1, 2, 0))\n",
    "    \n",
    "    # Undo preprocessing\n",
    "    mean = np.array([0.485, 0.456, 0.406])\n",
    "    std = np.array([0.229, 0.224, 0.225])\n",
    "    #image = std * image + mean\n",
    "    \n",
    "    # Image needs to be clipped between 0 and 1 or it looks like noise when displayed\n",
    "    image = np.clip(image, 0, 1)\n",
    "    \n",
    "    ax.imshow(image)\n",
    "    \n",
    "    return ax"
   ]
  },
  {
   "cell_type": "code",
   "execution_count": 24,
   "metadata": {},
   "outputs": [],
   "source": [
    "dataiter = iter(dataloaders['test'])\n",
    "images, labels = dataiter.next()\n",
    "img = images[1]\n",
    "torchvision.utils.save_image(img, 'img.jpg')"
   ]
  },
  {
   "cell_type": "code",
   "execution_count": 25,
   "metadata": {},
   "outputs": [
    {
     "data": {
      "text/plain": [
       "<matplotlib.axes._subplots.AxesSubplot at 0x7f24e3a14748>"
      ]
     },
     "execution_count": 25,
     "metadata": {},
     "output_type": "execute_result"
    },
    {
     "data": {
      "image/png": "[encoded data removed]",
      "text/plain": [
       "<matplotlib.figure.Figure at 0x7f24e3aabef0>"
      ]
     },
     "metadata": {
      "image/png": {
       "height": 251,
       "width": 259
      },
      "needs_background": "light"
     },
     "output_type": "display_data"
    }
   ],
   "source": [
    "imshow(process_image('img.jpg'))"
   ]
  },
  {
   "cell_type": "markdown",
   "metadata": {},
   "source": [
    "## Class Prediction\n",
    "\n",
    "Once you can get images in the correct format, it's time to write a function for making predictions with your model. A common practice is to predict the top 5 or so (usually called top-$K$) most probable classes. You'll want to calculate the class probabilities then find the $K$ largest values.\n",
    "\n",
    "To get the top $K$ largest values in a tensor use [`x.topk(k)`](http://pytorch.org/docs/master/torch.html#torch.topk). This method returns both the highest `k` probabilities and the indices of those probabilities corresponding to the classes. You need to convert from these indices to the actual class labels using `class_to_idx` which hopefully you added to the model or from an `ImageFolder` you used to load the data ([see here](#Save-the-checkpoint)). Make sure to invert the dictionary so you get a mapping from index to class as well.\n",
    "\n",
    "Again, this method should take a path to an image and a model checkpoint, then return the probabilities and classes.\n",
    "\n",
    "```python\n",
    "probs, classes = predict(image_path, model)\n",
    "print(probs)\n",
    "print(classes)\n",
    "> [ 0.01558163  0.01541934  0.01452626  0.01443549  0.01407339]\n",
    "> ['70', '3', '45', '62', '55']\n",
    "```"
   ]
  },
  {
   "cell_type": "code",
   "execution_count": 26,
   "metadata": {},
   "outputs": [],
   "source": [
    "%matplotlib inline\n",
    "%config InlineBackend.figure_format = 'retina'"
   ]
  },
  {
   "cell_type": "code",
   "execution_count": 27,
   "metadata": {},
   "outputs": [],
   "source": [
    "def predict(image_path, model, topk=5):\n",
    "    ''' Predict the class (or classes) of an image using a trained deep learning model.\n",
    "    '''\n",
    "    \n",
    "    # TODO: Implement the code to predict the class from an image file\n",
    "    input = process_image(image_path)\n",
    "    input.unsqueeze_(0)\n",
    "    prediction = model(input)\n",
    "    ps = torch.exp(prediction)\n",
    "    prebs, classes = ps.topk(topk, dim=1)\n",
    "    prebs = np.asarray(prebs.cpu().detach().numpy()).ravel()\n",
    "    classes = np.asarray(classes.cpu().detach().numpy()).ravel()\n",
    "    print(prebs)\n",
    "    print(classes)\n",
    "    \n",
    "    return prebs, classes"
   ]
  },
  {
   "cell_type": "markdown",
   "metadata": {},
   "source": [
    "## Sanity Checking\n",
    "\n",
    "Now that you can use a trained model for predictions, check to make sure it makes sense. Even if the testing accuracy is high, it's always good to check that there aren't obvious bugs. Use `matplotlib` to plot the probabilities for the top 5 classes as a bar graph, along with the input image. It should look like this:\n",
    "\n",
    "<img src='assets/inference_example.png' width=300px>\n",
    "\n",
    "You can convert from the class integer encoding to actual flower names with the `cat_to_name.json` file (should have been loaded earlier in the notebook). To show a PyTorch tensor as an image, use the `imshow` function defined above."
   ]
  },
  {
   "cell_type": "code",
   "execution_count": 28,
   "metadata": {},
   "outputs": [
    {
     "name": "stdout",
     "output_type": "stream",
     "text": [
      "[ 0.75874478  0.10307191  0.03538759  0.03125513  0.01760959]\n",
      "[73 78 35 30 95]\n"
     ]
    }
   ],
   "source": [
    "# TODO: Display an image along with the top 5 classes\n",
    "probs, classes = predict('img.jpg', model)"
   ]
  },
  {
   "cell_type": "code",
   "execution_count": 29,
   "metadata": {},
   "outputs": [
    {
     "data": {
      "text/plain": [
       "['water lily',\n",
       " 'lotus lotus',\n",
       " 'alpine sea holly',\n",
       " 'sweet william',\n",
       " 'bougainvillea']"
      ]
     },
     "execution_count": 29,
     "metadata": {},
     "output_type": "execute_result"
    }
   ],
   "source": [
    "top_class = []\n",
    "# get the labels\n",
    "for c in classes:\n",
    "    c = str(c)\n",
    "    top_class.append(cat_to_name[c])\n",
    "top_class"
   ]
  },
  {
   "cell_type": "code",
   "execution_count": 30,
   "metadata": {},
   "outputs": [
    {
     "data": {
      "text/plain": [
       "(<Container object of 5 artists>,\n",
       " <matplotlib.axes._subplots.AxesSubplot at 0x7f24e398c1d0>)"
      ]
     },
     "execution_count": 30,
     "metadata": {},
     "output_type": "execute_result"
    },
    {
     "data": {
      "image/png": "[encoded data removed]",
      "text/plain": [
       "<matplotlib.figure.Figure at 0x7f24e3a9cb38>"
      ]
     },
     "metadata": {
      "image/png": {
       "height": 250,
       "width": 436
      },
      "needs_background": "light"
     },
     "output_type": "display_data"
    },
    {
     "data": {
      "image/png": "[encoded data removed]",
      "text/plain": [
       "<matplotlib.figure.Figure at 0x7f24e398e2e8>"
      ]
     },
     "metadata": {
      "image/png": {
       "height": 251,
       "width": 259
      },
      "needs_background": "light"
     },
     "output_type": "display_data"
    }
   ],
   "source": [
    "plt.barh(top_class, classes), imshow(process_image('img.jpg'))"
   ]
  },
  {
   "cell_type": "code",
   "execution_count": null,
   "metadata": {},
   "outputs": [],
   "source": []
  },
  {
   "cell_type": "code",
   "execution_count": null,
   "metadata": {},
   "outputs": [],
   "source": []
  }
 ],
 "metadata": {
  "kernelspec": {
   "display_name": "Python 3",
   "language": "python",
   "name": "python3"
  },
  "language_info": {
   "codemirror_mode": {
    "name": "ipython",
    "version": 3
   },
   "file_extension": ".py",
   "mimetype": "text/x-python",
   "name": "python",
   "nbconvert_exporter": "python",
   "pygments_lexer": "ipython3",
   "version": "3.6.3"
  }
 },
 "nbformat": 4,
 "nbformat_minor": 2
}
